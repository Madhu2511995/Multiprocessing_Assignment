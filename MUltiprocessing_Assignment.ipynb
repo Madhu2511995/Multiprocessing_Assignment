{
 "cells": [
  {
   "cell_type": "markdown",
   "id": "122792d4-909c-4ac1-a510-cae0b171cd0b",
   "metadata": {},
   "source": [
    "Q1. What is multiprocessing in python? Why is it useful?\n",
    "\n",
    "Q2. What are the differences between multiprocessing and multithreading?\n",
    "\n",
    "Q3. Write a python code to create a process using the multiprocessing module.\n",
    "\n",
    "Q4. What is a multiprocessing pool in python? Why is it used?\n",
    "\n",
    "Q5. How can we create a pool of worker processes in python using the multiprocessing module?\n",
    "\n",
    "Q6. Write a python program to create 4 processes, each process should print a different number using the\n",
    "multiprocessing module in python."
   ]
  },
  {
   "cell_type": "markdown",
   "id": "3e141a3e-cf27-4855-9775-1438e6596e8c",
   "metadata": {},
   "source": [
    "## Answers"
   ]
  },
  {
   "cell_type": "markdown",
   "id": "1eba31ec-3eda-4947-b97e-d43a496d1f6a",
   "metadata": {},
   "source": [
    "### Q1. What is multiprocessing in python? Why is it useful?"
   ]
  },
  {
   "cell_type": "markdown",
   "id": "27c9fae0-df3b-402c-90e8-3504b5794963",
   "metadata": {},
   "source": [
    "Multiprocessing refers to running multiple processes simultaneously,\n",
    "which can be incredibly useful for speeding up your code and handling large datasets and tasks."
   ]
  },
  {
   "cell_type": "markdown",
   "id": "52cc4863-436e-4d7c-97cc-a3cc785c8fd0",
   "metadata": {},
   "source": [
    "### Q2. What are the differences between multiprocessing and multithreading?"
   ]
  },
  {
   "cell_type": "markdown",
   "id": "1c82fc0f-31e8-4a24-abf3-b4f4f0d95bf4",
   "metadata": {},
   "source": [
    "Multiprocessing\n",
    "-------------------------------------\n",
    "1. Multiprocessing uses two or more CPUs to increase computing power.\n",
    "2. Multiprocessing increases computing power by adding CPUs.\n",
    "3. multiprocessing requires a significant amount of time and specific resources to create.\n",
    "4. Multiprocessing executes many processes simultaneously.\n",
    "5. Multiprocessing creates a separate address space for each process.\n"
   ]
  },
  {
   "cell_type": "markdown",
   "id": "f2277122-479d-44fa-bd31-a66e0660261f",
   "metadata": {},
   "source": [
    "Multithreading\n",
    "--------------------------------------\n",
    "1. Multithreading uses a single process with multiple code segments to increase computing power.\n",
    "2. Multithreading focuses on generating computing threads from a single process.\n",
    "3. Multithreading is quick to create and requires few resources.\n",
    "4. Multithreading executes many threads simultaneously.\n",
    "5. Multithreading uses a common address space for all the threads."
   ]
  },
  {
   "cell_type": "markdown",
   "id": "112ef1fd-29de-4e87-9607-94ddd974b6b3",
   "metadata": {},
   "source": [
    "### Q3. Write a python code to create a process using the multiprocessing module."
   ]
  },
  {
   "cell_type": "code",
   "execution_count": 1,
   "id": "b46cc908-cd5c-4100-8b3e-f6d085ed994a",
   "metadata": {},
   "outputs": [
    {
     "name": "stdout",
     "output_type": "stream",
     "text": [
      "This is my main program\n",
      "This is my first multiprocessing program\n"
     ]
    }
   ],
   "source": [
    "import multiprocessing\n",
    "def first():\n",
    "    print(\"This is my first multiprocessing program\")\n",
    "    \n",
    "if __name__== '__main__':\n",
    "    m=multiprocessing.Process(target=first)\n",
    "    print(\"This is my main program\")\n",
    "    m.start()\n",
    "    m.join()"
   ]
  },
  {
   "cell_type": "markdown",
   "id": "da4e2ab0-25d1-411f-909f-02a788985c6f",
   "metadata": {},
   "source": [
    "### Q4. What is a multiprocessing pool in python? Why is it used?"
   ]
  },
  {
   "cell_type": "markdown",
   "id": "074d285e-ddac-4a54-ba1b-53402806b734",
   "metadata": {},
   "source": [
    "Python multiprocessing Pool can be used for parallel execution of a function across multiple input values, \n",
    "distributing the input data across processes.\n",
    "\n",
    "It Provides a convenient and efficient way to parallelize the execution of functions across a large set of input values. \n",
    "It enables you to leverage the multiprocessing capabilities of your system, utilize resources optimally etc."
   ]
  },
  {
   "cell_type": "code",
   "execution_count": 2,
   "id": "e1477d6d-3879-4d8c-94ca-ae98d37eb11a",
   "metadata": {},
   "outputs": [
    {
     "name": "stdout",
     "output_type": "stream",
     "text": [
      "[1, 4, 9, 16, 25]\n"
     ]
    }
   ],
   "source": [
    "import multiprocessing\n",
    "\n",
    "def square(number):\n",
    "    return number ** 2\n",
    "\n",
    "if __name__ == \"__main__\":\n",
    "    pool = multiprocessing.Pool()\n",
    "    numbers = [1, 2, 3, 4, 5]\n",
    "    results = pool.map(square, numbers)\n",
    "    pool.close()\n",
    "    pool.join()\n",
    "    print(results)\n"
   ]
  },
  {
   "cell_type": "markdown",
   "id": "9308a88a-69ad-4972-8802-fd58cd610156",
   "metadata": {},
   "source": [
    "### Q5. How can we create a pool of worker processes in python using the multiprocessing module?"
   ]
  },
  {
   "cell_type": "markdown",
   "id": "b8cd0898-4cc7-4f31-b330-3e1e48b9ce2f",
   "metadata": {},
   "source": [
    "To create a pool of worker processes, we use the multiprocessing.Pool class and specify the desired number of processes as an argument \n",
    "(in this case, we set it to 4). The Pool object will manage the worker processes for us."
   ]
  },
  {
   "cell_type": "code",
   "execution_count": 8,
   "id": "052b6593-8ed6-4666-b17f-2a02efe81263",
   "metadata": {},
   "outputs": [
    {
     "name": "stdout",
     "output_type": "stream",
     "text": [
      "[64, 125, 216, 343]\n"
     ]
    }
   ],
   "source": [
    "import multiprocessing\n",
    "def cube(n):\n",
    "    return n**3\n",
    "\n",
    "if __name__=='__main__':\n",
    "    with multiprocessing.Pool(processes=4) as pool:\n",
    "        result=pool.map(cube,[4,5,6,7])\n",
    "        print(result)"
   ]
  },
  {
   "cell_type": "code",
   "execution_count": null,
   "id": "5e0e8189-5ec5-40ba-ba3b-4e4e9623099f",
   "metadata": {},
   "outputs": [],
   "source": []
  },
  {
   "cell_type": "markdown",
   "id": "5cdeb8e5-cfc9-4a4c-b65c-e1630c260c7a",
   "metadata": {},
   "source": [
    "### Q6. Write a python program to create 4 processes, each process should print a different number using the multiprocessing module in python."
   ]
  },
  {
   "cell_type": "code",
   "execution_count": 17,
   "id": "1ca72efa-4908-4b7b-b957-74a995efc47e",
   "metadata": {},
   "outputs": [
    {
     "name": "stdout",
     "output_type": "stream",
     "text": [
      "1\n",
      "2\n",
      "3\n",
      "4\n"
     ]
    }
   ],
   "source": [
    "import multiprocessing\n",
    "import time\n",
    "def num(n):\n",
    "    print(n)\n",
    "if __name__==\"__main__\":\n",
    "    process=[]\n",
    "    for i in range(1,5):\n",
    "        p1=multiprocessing.Process(target=num, args=(i,))\n",
    "        process.append(p1)\n",
    "    for p1 in process:\n",
    "        p1.start()\n",
    "        time.sleep(3)\n",
    "        p1.join()\n"
   ]
  },
  {
   "cell_type": "code",
   "execution_count": null,
   "id": "71de4eeb-0314-4273-82c9-ca8e73088904",
   "metadata": {},
   "outputs": [],
   "source": []
  },
  {
   "cell_type": "code",
   "execution_count": null,
   "id": "d7af215b-8b39-4f9b-ac25-87d8f436f759",
   "metadata": {},
   "outputs": [],
   "source": []
  },
  {
   "cell_type": "code",
   "execution_count": null,
   "id": "3eca96e8-fff6-4083-9969-e12456cf0f9c",
   "metadata": {},
   "outputs": [],
   "source": []
  },
  {
   "cell_type": "code",
   "execution_count": null,
   "id": "be3920dc-7df7-46b9-bfc8-0eb5b8d6dc0b",
   "metadata": {},
   "outputs": [],
   "source": []
  },
  {
   "cell_type": "code",
   "execution_count": null,
   "id": "32528e31-7315-4c39-8fde-565430db85b6",
   "metadata": {},
   "outputs": [],
   "source": []
  },
  {
   "cell_type": "code",
   "execution_count": null,
   "id": "02ec78df-7b4a-48aa-91ab-2597db64949c",
   "metadata": {},
   "outputs": [],
   "source": []
  },
  {
   "cell_type": "code",
   "execution_count": null,
   "id": "fe5424a3-f02d-48e8-a8ac-a78b4436219c",
   "metadata": {},
   "outputs": [],
   "source": []
  },
  {
   "cell_type": "code",
   "execution_count": null,
   "id": "1708e451-eebc-449b-9f1b-528becb720c0",
   "metadata": {},
   "outputs": [],
   "source": []
  },
  {
   "cell_type": "code",
   "execution_count": null,
   "id": "1c33c83c-63e2-4056-abfe-444a37fb09be",
   "metadata": {},
   "outputs": [],
   "source": []
  },
  {
   "cell_type": "code",
   "execution_count": null,
   "id": "a0ce72d8-8f79-46e7-8cba-dffc44fd7d4e",
   "metadata": {},
   "outputs": [],
   "source": []
  },
  {
   "cell_type": "code",
   "execution_count": null,
   "id": "86fa5e80-3beb-4dac-8130-5801c377b6f7",
   "metadata": {},
   "outputs": [],
   "source": []
  },
  {
   "cell_type": "code",
   "execution_count": null,
   "id": "6e931f57-888d-4dcb-ac76-5768af9c93ea",
   "metadata": {},
   "outputs": [],
   "source": []
  },
  {
   "cell_type": "code",
   "execution_count": null,
   "id": "2819b795-03f4-419a-80c8-44267b7d1b20",
   "metadata": {},
   "outputs": [],
   "source": []
  },
  {
   "cell_type": "code",
   "execution_count": null,
   "id": "93142f1d-91fb-4a8b-be54-45eb98ed0f26",
   "metadata": {},
   "outputs": [],
   "source": []
  },
  {
   "cell_type": "code",
   "execution_count": null,
   "id": "21315194-6385-4bcd-a82a-adfe06d5f8a4",
   "metadata": {},
   "outputs": [],
   "source": []
  },
  {
   "cell_type": "code",
   "execution_count": null,
   "id": "8b0dac08-97b2-4288-8d3c-f94a049fe489",
   "metadata": {},
   "outputs": [],
   "source": []
  },
  {
   "cell_type": "code",
   "execution_count": null,
   "id": "ff08008d-1652-467e-85de-49498b81a8e1",
   "metadata": {},
   "outputs": [],
   "source": []
  },
  {
   "cell_type": "code",
   "execution_count": null,
   "id": "48605e55-0e6f-41c4-83bf-4e1c96b3977a",
   "metadata": {},
   "outputs": [],
   "source": []
  },
  {
   "cell_type": "code",
   "execution_count": null,
   "id": "ede445c6-f2fa-4377-85a2-537609a1f457",
   "metadata": {},
   "outputs": [],
   "source": []
  },
  {
   "cell_type": "code",
   "execution_count": null,
   "id": "b4002979-e879-48df-8027-6f95b5fc3fe9",
   "metadata": {},
   "outputs": [],
   "source": []
  },
  {
   "cell_type": "code",
   "execution_count": null,
   "id": "eca5201f-6f0d-4136-9655-06cf30d7e224",
   "metadata": {},
   "outputs": [],
   "source": []
  },
  {
   "cell_type": "code",
   "execution_count": null,
   "id": "4b8a98ba-4d14-4788-9113-071ae3281752",
   "metadata": {},
   "outputs": [],
   "source": []
  },
  {
   "cell_type": "code",
   "execution_count": null,
   "id": "cb9c9d3f-a94e-41e0-aa23-ec43f06d2ef6",
   "metadata": {},
   "outputs": [],
   "source": []
  },
  {
   "cell_type": "code",
   "execution_count": null,
   "id": "eb6a94ea-d8ae-4bcd-bc41-7a6eb102052a",
   "metadata": {},
   "outputs": [],
   "source": []
  },
  {
   "cell_type": "code",
   "execution_count": null,
   "id": "3eb1ebf1-68a2-4468-a87e-9e95e9dd9522",
   "metadata": {},
   "outputs": [],
   "source": []
  },
  {
   "cell_type": "code",
   "execution_count": null,
   "id": "e2d717e3-d2ea-4c45-8aa5-0a7329354ff0",
   "metadata": {},
   "outputs": [],
   "source": []
  },
  {
   "cell_type": "code",
   "execution_count": null,
   "id": "00f7bd53-a1a8-4100-ae11-48e77c072d4a",
   "metadata": {},
   "outputs": [],
   "source": []
  }
 ],
 "metadata": {
  "kernelspec": {
   "display_name": "Python 3 (ipykernel)",
   "language": "python",
   "name": "python3"
  },
  "language_info": {
   "codemirror_mode": {
    "name": "ipython",
    "version": 3
   },
   "file_extension": ".py",
   "mimetype": "text/x-python",
   "name": "python",
   "nbconvert_exporter": "python",
   "pygments_lexer": "ipython3",
   "version": "3.10.8"
  }
 },
 "nbformat": 4,
 "nbformat_minor": 5
}
